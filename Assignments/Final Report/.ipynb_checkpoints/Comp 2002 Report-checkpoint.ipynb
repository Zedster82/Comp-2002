{
 "cells": [
  {
   "cell_type": "code",
   "execution_count": 1,
   "id": "ee5ad7fb-18d4-464b-89a2-656a872155e3",
   "metadata": {},
   "outputs": [
    {
     "name": "stdout",
     "output_type": "stream",
     "text": [
      "TF Version: 2.16.1\n"
     ]
    }
   ],
   "source": [
    "import matplotlib.pyplot as plt\n",
    "import numpy as np\n",
    "import pandas as pd\n",
    "import tensorflow as tf\n",
    "\n",
    "from tensorflow import keras\n",
    "from tensorflow.keras import layers\n",
    "\n",
    "print(\"TF Version: \" + tf.__version__)"
   ]
  },
  {
   "cell_type": "markdown",
   "id": "8c394afe-f810-45e0-a343-15bbfc4bb584",
   "metadata": {
    "jp-MarkdownHeadingCollapsed": true
   },
   "source": [
    "### Data Preperation\r\n",
    "Here we are selecting a small percentage of the original dataset, this is to increase the speed at which the models train.\n",
    "This is done using the line dataset = dataset.sample\n",
    "\n",
    "We then drop the region column from the dataset as we will not be using it in the training of the models\n",
    "e:"
   ]
  },
  {
   "cell_type": "code",
   "execution_count": 2,
   "id": "2acfa723-da89-42c5-8eab-8af687ab7e3c",
   "metadata": {},
   "outputs": [],
   "source": [
    "#Read data from file\n",
    "\n",
    "raw_dataset = pd.read_csv(\"insurance_dataset.csv\", sep=',',decimal='.')\n"
   ]
  },
  {
   "cell_type": "code",
   "execution_count": 3,
   "id": "0bc977a2-04c1-4085-a20a-ed4921595c2a",
   "metadata": {},
   "outputs": [
    {
     "name": "stdout",
     "output_type": "stream",
     "text": [
      "Number of rows in the dataset after sampling: 5000\n"
     ]
    },
    {
     "data": {
      "text/html": [
       "<div>\n",
       "<style scoped>\n",
       "    .dataframe tbody tr th:only-of-type {\n",
       "        vertical-align: middle;\n",
       "    }\n",
       "\n",
       "    .dataframe tbody tr th {\n",
       "        vertical-align: top;\n",
       "    }\n",
       "\n",
       "    .dataframe thead th {\n",
       "        text-align: right;\n",
       "    }\n",
       "</style>\n",
       "<table border=\"1\" class=\"dataframe\">\n",
       "  <thead>\n",
       "    <tr style=\"text-align: right;\">\n",
       "      <th></th>\n",
       "      <th>age</th>\n",
       "      <th>gender</th>\n",
       "      <th>bmi</th>\n",
       "      <th>children</th>\n",
       "      <th>smoker</th>\n",
       "      <th>medical_history</th>\n",
       "      <th>family_medical_history</th>\n",
       "      <th>exercise_frequency</th>\n",
       "      <th>occupation</th>\n",
       "      <th>coverage_level</th>\n",
       "      <th>charges</th>\n",
       "    </tr>\n",
       "  </thead>\n",
       "  <tbody>\n",
       "    <tr>\n",
       "      <th>4991</th>\n",
       "      <td>42</td>\n",
       "      <td>male</td>\n",
       "      <td>31.18</td>\n",
       "      <td>3</td>\n",
       "      <td>yes</td>\n",
       "      <td>High blood pressure</td>\n",
       "      <td>Diabetes</td>\n",
       "      <td>Never</td>\n",
       "      <td>Blue collar</td>\n",
       "      <td>Basic</td>\n",
       "      <td>16272.151930</td>\n",
       "    </tr>\n",
       "    <tr>\n",
       "      <th>4992</th>\n",
       "      <td>46</td>\n",
       "      <td>male</td>\n",
       "      <td>28.89</td>\n",
       "      <td>4</td>\n",
       "      <td>yes</td>\n",
       "      <td>Diabetes</td>\n",
       "      <td>Heart disease</td>\n",
       "      <td>Frequently</td>\n",
       "      <td>Unemployed</td>\n",
       "      <td>Standard</td>\n",
       "      <td>22953.606080</td>\n",
       "    </tr>\n",
       "    <tr>\n",
       "      <th>4993</th>\n",
       "      <td>57</td>\n",
       "      <td>male</td>\n",
       "      <td>35.78</td>\n",
       "      <td>5</td>\n",
       "      <td>yes</td>\n",
       "      <td>Diabetes</td>\n",
       "      <td>Diabetes</td>\n",
       "      <td>Frequently</td>\n",
       "      <td>White collar</td>\n",
       "      <td>Standard</td>\n",
       "      <td>21828.655940</td>\n",
       "    </tr>\n",
       "    <tr>\n",
       "      <th>4994</th>\n",
       "      <td>21</td>\n",
       "      <td>male</td>\n",
       "      <td>22.20</td>\n",
       "      <td>2</td>\n",
       "      <td>no</td>\n",
       "      <td>NaN</td>\n",
       "      <td>Diabetes</td>\n",
       "      <td>Rarely</td>\n",
       "      <td>Student</td>\n",
       "      <td>Basic</td>\n",
       "      <td>7782.781926</td>\n",
       "    </tr>\n",
       "    <tr>\n",
       "      <th>4995</th>\n",
       "      <td>46</td>\n",
       "      <td>female</td>\n",
       "      <td>43.61</td>\n",
       "      <td>3</td>\n",
       "      <td>yes</td>\n",
       "      <td>High blood pressure</td>\n",
       "      <td>Heart disease</td>\n",
       "      <td>Rarely</td>\n",
       "      <td>Student</td>\n",
       "      <td>Standard</td>\n",
       "      <td>19765.111890</td>\n",
       "    </tr>\n",
       "    <tr>\n",
       "      <th>4996</th>\n",
       "      <td>28</td>\n",
       "      <td>female</td>\n",
       "      <td>34.46</td>\n",
       "      <td>3</td>\n",
       "      <td>no</td>\n",
       "      <td>NaN</td>\n",
       "      <td>Diabetes</td>\n",
       "      <td>Frequently</td>\n",
       "      <td>Unemployed</td>\n",
       "      <td>Basic</td>\n",
       "      <td>9406.823145</td>\n",
       "    </tr>\n",
       "    <tr>\n",
       "      <th>4997</th>\n",
       "      <td>65</td>\n",
       "      <td>male</td>\n",
       "      <td>33.47</td>\n",
       "      <td>0</td>\n",
       "      <td>no</td>\n",
       "      <td>Heart disease</td>\n",
       "      <td>High blood pressure</td>\n",
       "      <td>Occasionally</td>\n",
       "      <td>Blue collar</td>\n",
       "      <td>Basic</td>\n",
       "      <td>15161.968770</td>\n",
       "    </tr>\n",
       "    <tr>\n",
       "      <th>4998</th>\n",
       "      <td>56</td>\n",
       "      <td>male</td>\n",
       "      <td>39.00</td>\n",
       "      <td>3</td>\n",
       "      <td>no</td>\n",
       "      <td>NaN</td>\n",
       "      <td>Heart disease</td>\n",
       "      <td>Frequently</td>\n",
       "      <td>Student</td>\n",
       "      <td>Standard</td>\n",
       "      <td>16416.199640</td>\n",
       "    </tr>\n",
       "    <tr>\n",
       "      <th>4999</th>\n",
       "      <td>65</td>\n",
       "      <td>male</td>\n",
       "      <td>18.34</td>\n",
       "      <td>1</td>\n",
       "      <td>yes</td>\n",
       "      <td>NaN</td>\n",
       "      <td>High blood pressure</td>\n",
       "      <td>Frequently</td>\n",
       "      <td>White collar</td>\n",
       "      <td>Premium</td>\n",
       "      <td>20258.384190</td>\n",
       "    </tr>\n",
       "  </tbody>\n",
       "</table>\n",
       "</div>"
      ],
      "text/plain": [
       "      age  gender    bmi  children smoker      medical_history  \\\n",
       "4991   42    male  31.18         3    yes  High blood pressure   \n",
       "4992   46    male  28.89         4    yes             Diabetes   \n",
       "4993   57    male  35.78         5    yes             Diabetes   \n",
       "4994   21    male  22.20         2     no                  NaN   \n",
       "4995   46  female  43.61         3    yes  High blood pressure   \n",
       "4996   28  female  34.46         3     no                  NaN   \n",
       "4997   65    male  33.47         0     no        Heart disease   \n",
       "4998   56    male  39.00         3     no                  NaN   \n",
       "4999   65    male  18.34         1    yes                  NaN   \n",
       "\n",
       "     family_medical_history exercise_frequency    occupation coverage_level  \\\n",
       "4991               Diabetes              Never   Blue collar          Basic   \n",
       "4992          Heart disease         Frequently    Unemployed       Standard   \n",
       "4993               Diabetes         Frequently  White collar       Standard   \n",
       "4994               Diabetes             Rarely       Student          Basic   \n",
       "4995          Heart disease             Rarely       Student       Standard   \n",
       "4996               Diabetes         Frequently    Unemployed          Basic   \n",
       "4997    High blood pressure       Occasionally   Blue collar          Basic   \n",
       "4998          Heart disease         Frequently       Student       Standard   \n",
       "4999    High blood pressure         Frequently  White collar        Premium   \n",
       "\n",
       "           charges  \n",
       "4991  16272.151930  \n",
       "4992  22953.606080  \n",
       "4993  21828.655940  \n",
       "4994   7782.781926  \n",
       "4995  19765.111890  \n",
       "4996   9406.823145  \n",
       "4997  15161.968770  \n",
       "4998  16416.199640  \n",
       "4999  20258.384190  "
      ]
     },
     "execution_count": 3,
     "metadata": {},
     "output_type": "execute_result"
    }
   ],
   "source": [
    "dataset = raw_dataset.copy()\n",
    "dataset = dataset.sample(frac=0.005, random_state=42)#0.5% of 1 million = 5,000, likely need to increase\n",
    "dataset.drop(columns=['region'], inplace=True) #Drop the region as we will not be using it\n",
    "print(\"Number of rows in the dataset after sampling:\", dataset.shape[0])\n",
    "dataset.reset_index(drop=True, inplace=True)\n",
    "dataset.tail(9)"
   ]
  },
  {
   "cell_type": "code",
   "execution_count": 4,
   "id": "e54d412c-3b7b-4e39-885d-6b58cea14322",
   "metadata": {
    "scrolled": true
   },
   "outputs": [
    {
     "data": {
      "text/html": [
       "<div>\n",
       "<style scoped>\n",
       "    .dataframe tbody tr th:only-of-type {\n",
       "        vertical-align: middle;\n",
       "    }\n",
       "\n",
       "    .dataframe tbody tr th {\n",
       "        vertical-align: top;\n",
       "    }\n",
       "\n",
       "    .dataframe thead th {\n",
       "        text-align: right;\n",
       "    }\n",
       "</style>\n",
       "<table border=\"1\" class=\"dataframe\">\n",
       "  <thead>\n",
       "    <tr style=\"text-align: right;\">\n",
       "      <th></th>\n",
       "      <th>age</th>\n",
       "      <th>gender</th>\n",
       "      <th>bmi</th>\n",
       "      <th>children</th>\n",
       "      <th>smoker</th>\n",
       "      <th>medical_history</th>\n",
       "      <th>family_medical_history</th>\n",
       "      <th>exercise_frequency</th>\n",
       "      <th>occupation</th>\n",
       "      <th>coverage_level</th>\n",
       "      <th>charges</th>\n",
       "    </tr>\n",
       "  </thead>\n",
       "  <tbody>\n",
       "    <tr>\n",
       "      <th>4991</th>\n",
       "      <td>42</td>\n",
       "      <td>0</td>\n",
       "      <td>31.18</td>\n",
       "      <td>3</td>\n",
       "      <td>1</td>\n",
       "      <td>2</td>\n",
       "      <td>3</td>\n",
       "      <td>0</td>\n",
       "      <td>2</td>\n",
       "      <td>0</td>\n",
       "      <td>16272.151930</td>\n",
       "    </tr>\n",
       "    <tr>\n",
       "      <th>4992</th>\n",
       "      <td>46</td>\n",
       "      <td>0</td>\n",
       "      <td>28.89</td>\n",
       "      <td>4</td>\n",
       "      <td>1</td>\n",
       "      <td>3</td>\n",
       "      <td>1</td>\n",
       "      <td>3</td>\n",
       "      <td>0</td>\n",
       "      <td>1</td>\n",
       "      <td>22953.606080</td>\n",
       "    </tr>\n",
       "    <tr>\n",
       "      <th>4993</th>\n",
       "      <td>57</td>\n",
       "      <td>0</td>\n",
       "      <td>35.78</td>\n",
       "      <td>5</td>\n",
       "      <td>1</td>\n",
       "      <td>3</td>\n",
       "      <td>3</td>\n",
       "      <td>3</td>\n",
       "      <td>3</td>\n",
       "      <td>1</td>\n",
       "      <td>21828.655940</td>\n",
       "    </tr>\n",
       "    <tr>\n",
       "      <th>4994</th>\n",
       "      <td>21</td>\n",
       "      <td>0</td>\n",
       "      <td>22.20</td>\n",
       "      <td>2</td>\n",
       "      <td>0</td>\n",
       "      <td>0</td>\n",
       "      <td>3</td>\n",
       "      <td>1</td>\n",
       "      <td>1</td>\n",
       "      <td>0</td>\n",
       "      <td>7782.781926</td>\n",
       "    </tr>\n",
       "    <tr>\n",
       "      <th>4995</th>\n",
       "      <td>46</td>\n",
       "      <td>1</td>\n",
       "      <td>43.61</td>\n",
       "      <td>3</td>\n",
       "      <td>1</td>\n",
       "      <td>2</td>\n",
       "      <td>1</td>\n",
       "      <td>1</td>\n",
       "      <td>1</td>\n",
       "      <td>1</td>\n",
       "      <td>19765.111890</td>\n",
       "    </tr>\n",
       "    <tr>\n",
       "      <th>4996</th>\n",
       "      <td>28</td>\n",
       "      <td>1</td>\n",
       "      <td>34.46</td>\n",
       "      <td>3</td>\n",
       "      <td>0</td>\n",
       "      <td>0</td>\n",
       "      <td>3</td>\n",
       "      <td>3</td>\n",
       "      <td>0</td>\n",
       "      <td>0</td>\n",
       "      <td>9406.823145</td>\n",
       "    </tr>\n",
       "    <tr>\n",
       "      <th>4997</th>\n",
       "      <td>65</td>\n",
       "      <td>0</td>\n",
       "      <td>33.47</td>\n",
       "      <td>0</td>\n",
       "      <td>0</td>\n",
       "      <td>1</td>\n",
       "      <td>2</td>\n",
       "      <td>2</td>\n",
       "      <td>2</td>\n",
       "      <td>0</td>\n",
       "      <td>15161.968770</td>\n",
       "    </tr>\n",
       "    <tr>\n",
       "      <th>4998</th>\n",
       "      <td>56</td>\n",
       "      <td>0</td>\n",
       "      <td>39.00</td>\n",
       "      <td>3</td>\n",
       "      <td>0</td>\n",
       "      <td>0</td>\n",
       "      <td>1</td>\n",
       "      <td>3</td>\n",
       "      <td>1</td>\n",
       "      <td>1</td>\n",
       "      <td>16416.199640</td>\n",
       "    </tr>\n",
       "    <tr>\n",
       "      <th>4999</th>\n",
       "      <td>65</td>\n",
       "      <td>0</td>\n",
       "      <td>18.34</td>\n",
       "      <td>1</td>\n",
       "      <td>1</td>\n",
       "      <td>0</td>\n",
       "      <td>2</td>\n",
       "      <td>3</td>\n",
       "      <td>3</td>\n",
       "      <td>2</td>\n",
       "      <td>20258.384190</td>\n",
       "    </tr>\n",
       "  </tbody>\n",
       "</table>\n",
       "</div>"
      ],
      "text/plain": [
       "      age  gender    bmi  children  smoker  medical_history  \\\n",
       "4991   42       0  31.18         3       1                2   \n",
       "4992   46       0  28.89         4       1                3   \n",
       "4993   57       0  35.78         5       1                3   \n",
       "4994   21       0  22.20         2       0                0   \n",
       "4995   46       1  43.61         3       1                2   \n",
       "4996   28       1  34.46         3       0                0   \n",
       "4997   65       0  33.47         0       0                1   \n",
       "4998   56       0  39.00         3       0                0   \n",
       "4999   65       0  18.34         1       1                0   \n",
       "\n",
       "      family_medical_history  exercise_frequency  occupation  coverage_level  \\\n",
       "4991                       3                   0           2               0   \n",
       "4992                       1                   3           0               1   \n",
       "4993                       3                   3           3               1   \n",
       "4994                       3                   1           1               0   \n",
       "4995                       1                   1           1               1   \n",
       "4996                       3                   3           0               0   \n",
       "4997                       2                   2           2               0   \n",
       "4998                       1                   3           1               1   \n",
       "4999                       2                   3           3               2   \n",
       "\n",
       "           charges  \n",
       "4991  16272.151930  \n",
       "4992  22953.606080  \n",
       "4993  21828.655940  \n",
       "4994   7782.781926  \n",
       "4995  19765.111890  \n",
       "4996   9406.823145  \n",
       "4997  15161.968770  \n",
       "4998  16416.199640  \n",
       "4999  20258.384190  "
      ]
     },
     "execution_count": 4,
     "metadata": {},
     "output_type": "execute_result"
    }
   ],
   "source": [
    "from sklearn.preprocessing import LabelEncoder\n",
    "# Create label encoder\n",
    "label_encoder = LabelEncoder()\n",
    "# Define ordinal mappings for ordinal variables\n",
    "ordinal_mappings = {\n",
    "    \"gender\": {\"male\": 0, \"female\": 1},\n",
    "    \"smoker\": {\"no\": 0, \"yes\": 1},\n",
    "    \"medical_history\": {np.NAN: 0, \"Heart disease\": 1, \"High blood pressure\": 2, \"Diabetes\": 3},\n",
    "    \"family_medical_history\": {np.NAN: 0, \"Heart disease\": 1, \"High blood pressure\": 2, \"Diabetes\": 3},\n",
    "    \"exercise_frequency\": {\"Never\": 0, \"Rarely\": 1, \"Occasionally\": 2, \"Frequently\": 3},\n",
    "    \"occupation\": {\"Unemployed\": 0, \"Student\": 1, \"Blue collar\": 2, \"White collar\": 3},\n",
    "    \"coverage_level\": {\"Basic\": 0, \"Standard\": 1, \"Premium\": 2}\n",
    "}\n",
    "def encode_values(new_dataset):\n",
    "    # Apply ordinal encoding to ordinal variables\n",
    "    new_dataset.replace(ordinal_mappings, inplace=True)\n",
    "    return new_dataset\n",
    "\n",
    "# Apply the function to your dataset\n",
    "dataset = encode_values(dataset)\n",
    "\n",
    "\n",
    "dataset.tail(9)"
   ]
  },
  {
   "cell_type": "code",
   "execution_count": 5,
   "id": "79466b85-12df-4dcd-be14-21d4310a9c4c",
   "metadata": {},
   "outputs": [
    {
     "data": {
      "text/plain": [
       "\"from sklearn.preprocessing import OneHotEncoder\\nfrom sklearn.impute import SimpleImputer\\n\\n# Assuming 'coverage_level' is a column in your dataset\\n# Convert 'coverage_level' to categorical data type (optional but recommended)\\ndataset['coverage_level'] = dataset['coverage_level'].astype('category')\\n\\n# Drop the 'coverage_level' column temporarily\\ncoverage_level = dataset.pop('coverage_level')\\n\\n# Initialize SimpleImputer to handle missing values\\nimputer = SimpleImputer(strategy='most_frequent')\\ndataset_imputed = pd.DataFrame(imputer.fit_transform(dataset), columns=dataset.columns)\\n\\n# Initialize OneHotEncoder\\nencoder = OneHotEncoder()\\n\\n# Fit and transform the coverage_level column\\ncoverage_encoded = encoder.fit_transform(coverage_level.values.reshape(-1, 1))\\n\\n# Convert the encoded sparse matrix to a dense array and create a DataFrame\\ncoverage_encoded_df = pd.DataFrame(coverage_encoded.toarray(), columns=encoder.get_feature_names_out(['coverage_level']))\\n\\n# Concatenate the imputed dataset with the one-hot encoded coverage level\\ndataset_encoded = pd.concat([dataset_imputed, coverage_encoded_df], axis=1)\\n\\ndataset = dataset_encoded\\n\\n# Print the head of the encoded dataset\\ndataset.tail()\""
      ]
     },
     "execution_count": 5,
     "metadata": {},
     "output_type": "execute_result"
    }
   ],
   "source": [
    "'''from sklearn.preprocessing import OneHotEncoder\n",
    "from sklearn.impute import SimpleImputer\n",
    "\n",
    "# Assuming 'coverage_level' is a column in your dataset\n",
    "# Convert 'coverage_level' to categorical data type (optional but recommended)\n",
    "dataset['coverage_level'] = dataset['coverage_level'].astype('category')\n",
    "\n",
    "# Drop the 'coverage_level' column temporarily\n",
    "coverage_level = dataset.pop('coverage_level')\n",
    "\n",
    "# Initialize SimpleImputer to handle missing values\n",
    "imputer = SimpleImputer(strategy='most_frequent')\n",
    "dataset_imputed = pd.DataFrame(imputer.fit_transform(dataset), columns=dataset.columns)\n",
    "\n",
    "# Initialize OneHotEncoder\n",
    "encoder = OneHotEncoder()\n",
    "\n",
    "# Fit and transform the coverage_level column\n",
    "coverage_encoded = encoder.fit_transform(coverage_level.values.reshape(-1, 1))\n",
    "\n",
    "# Convert the encoded sparse matrix to a dense array and create a DataFrame\n",
    "coverage_encoded_df = pd.DataFrame(coverage_encoded.toarray(), columns=encoder.get_feature_names_out(['coverage_level']))\n",
    "\n",
    "# Concatenate the imputed dataset with the one-hot encoded coverage level\n",
    "dataset_encoded = pd.concat([dataset_imputed, coverage_encoded_df], axis=1)\n",
    "\n",
    "dataset = dataset_encoded\n",
    "\n",
    "# Print the head of the encoded dataset\n",
    "dataset.tail()'''"
   ]
  },
  {
   "cell_type": "code",
   "execution_count": 6,
   "id": "dfd211a6-6f96-4f81-9955-edee88c1c73c",
   "metadata": {},
   "outputs": [
    {
     "name": "stdout",
     "output_type": "stream",
     "text": [
      "Shape of X_train: (4000, 9)\n",
      "Shape of y_train: (4000, 2)\n",
      "Shape of X_test: (1000, 9)\n",
      "Shape of y_test: (1000, 2)\n"
     ]
    }
   ],
   "source": [
    "from sklearn.model_selection import train_test_split, GridSearchCV\n",
    "from sklearn.ensemble import RandomForestRegressor\n",
    "from sklearn.multioutput import MultiOutputRegressor\n",
    "from sklearn.metrics import mean_squared_error\n",
    "\n",
    "# Split the encoded dataset into features (X) and target variables (y_charges, y_coverage)\n",
    "X = dataset.drop(columns=['charges', 'coverage_level'])  # Features\n",
    "y_charges = dataset['charges']  # Target variable for charges\n",
    "y_coverage = dataset['coverage_level']  # Target variable for coverage\n",
    "\n",
    "# Split the data into training and testing sets for charges and coverage separately\n",
    "X_train, X_test, y_charges_train, y_charges_test = train_test_split(\n",
    "    X, y_charges, test_size=0.2, random_state=42\n",
    ")\n",
    "X_train, X_test, y_coverage_train, y_coverage_test = train_test_split(\n",
    "    X, y_coverage, test_size=0.2, random_state=42\n",
    ")\n",
    "\n",
    "# Concatenate the target variables\n",
    "y_train = pd.concat([y_charges_train, y_coverage_train], axis=1)\n",
    "y_test = pd.concat([y_charges_test, y_coverage_test], axis=1)\n",
    "\n",
    "print(\"Shape of X_train:\", X_train.shape)\n",
    "print(\"Shape of y_train:\", y_train.shape)\n",
    "\n",
    "print(\"Shape of X_test:\", X_test.shape)\n",
    "print(\"Shape of y_test:\", y_test.shape)\n"
   ]
  },
  {
   "cell_type": "code",
   "execution_count": 7,
   "id": "5cc9a45f-4cd8-4604-9a01-76b04b2458b4",
   "metadata": {},
   "outputs": [],
   "source": [
    "from sklearn.preprocessing import MinMaxScaler\n",
    "\n",
    "# Initialize MinMaxScaler\n",
    "scaler = MinMaxScaler()\n",
    "\n",
    "# Fit scaler on training data and transform both training and testing data\n",
    "X_train = scaler.fit_transform(X_train)\n",
    "X_test = scaler.transform(X_test)"
   ]
  },
  {
   "cell_type": "markdown",
   "id": "5362e609-eb69-4219-8a7a-642aa5cf0ce2",
   "metadata": {},
   "source": [
    "### Multi Output Random Forest Regressor\n",
    "\n",
    "This random forest regressor is wrapped with a multi output regressor to make it so that we can predict both "
   ]
  },
  {
   "cell_type": "code",
   "execution_count": 29,
   "id": "8b0386c7-5bcb-426d-9500-4e719d3f6152",
   "metadata": {},
   "outputs": [
    {
     "name": "stdout",
     "output_type": "stream",
     "text": [
      "Mean Squared Error (Charges): 4979655.2293741135\n",
      "Mean Squared Error (Coverage Level): 0.6485561332617651\n"
     ]
    }
   ],
   "source": [
    "# Define parameter grid for hyperparameter tuning\n",
    "##param_grid = {\n",
    "#    'n_estimators': [100, 200, 300],  # Number of trees in the forest\n",
    "#    'max_depth': [None, 10, 20],  # Maximum depth of the tree\n",
    "#    'min_samples_split': [2, 5, 10],  # Minimum number of samples required to split an internal node\n",
    "#    'min_samples_leaf': [1, 2, 4],  # Minimum number of samples required to be at a leaf node\n",
    "#    'max_features': ['auto', 'sqrt']  # Number of features to consider when looking for the best split\n",
    "#}\n",
    "\n",
    "param_grid_rf = {\n",
    "    'estimator__max_depth': [10, 20, 30],\n",
    "    'estimator__n_estimators': [100, 200, 300]\n",
    "}\n",
    "\n",
    "\n",
    "# Instantiate Random Forest regressor\n",
    "rf_regressor = RandomForestRegressor(random_state=42)\n",
    "\n",
    "# Wrap the Random Forest regressor with MultiOutputRegressor\n",
    "multioutput_regressor = MultiOutputRegressor(rf_regressor)\n",
    "\n",
    "# Perform grid search with 5-fold cross-validation\n",
    "grid_search = GridSearchCV(estimator=multioutput_regressor, param_grid=param_grid_rf, cv=5, scoring='neg_mean_squared_error', n_jobs=-1)\n",
    "grid_search.fit(X_train, y_train)\n",
    "\n",
    "# Get the best model from grid search\n",
    "best_rf_model = grid_search.best_estimator_\n",
    "\n",
    "# Make predictions on the testing data\n",
    "y_pred = best_rf_model.predict(X_test)\n",
    "\n",
    "# Split the predictions into separate arrays for charges and coverage\n",
    "y_charges_pred = y_pred[:, 0]  # Assuming charges is the first output variable\n",
    "y_coverage_pred = y_pred[:, 1]  # Assuming coverage is the second output variable\n",
    "\n",
    "# Evaluate the model\n",
    "mse_charges = mean_squared_error(y_charges_test, y_charges_pred)\n",
    "mse_coverage = mean_squared_error(y_coverage_test, y_coverage_pred)\n",
    "print(\"Mean Squared Error (Charges):\", mse_charges)\n",
    "print(\"Mean Squared Error (Coverage Level):\", mse_coverage)"
   ]
  },
  {
   "cell_type": "markdown",
   "id": "90f48cd1-04d1-4bb7-a1a9-f1bd2083a119",
   "metadata": {
    "jp-MarkdownHeadingCollapsed": true
   },
   "source": [
    "### Multi output SVM Regressor\n",
    "\n",
    "Here we use the SVR Model from sklearn to create a SVM regression model that will predict the charges and the coverage type\n"
   ]
  },
  {
   "cell_type": "code",
   "execution_count": 25,
   "id": "2229eb71-069d-463d-b183-8a7b65145641",
   "metadata": {},
   "outputs": [
    {
     "name": "stdout",
     "output_type": "stream",
     "text": [
      "Mean Squared Error (Charges): 12365562.795422452\n",
      "Mean Squared Error (Coverage Level): 0.8776940997308418\n"
     ]
    }
   ],
   "source": [
    "from sklearn.svm import SVR\n",
    "\n",
    "# 1. Instantiate the SVM Regressor\n",
    "svm_regressor = SVR()\n",
    "\n",
    "# 2. Hyperparameter Tuning\n",
    "param_grid = {\n",
    "    'estimator__kernel': ['linear', 'rbf'],\n",
    "    'estimator__C': [0.1, 1, 10],\n",
    "    'estimator__epsilon': [0.1, 0.2, 0.5]\n",
    "}\n",
    "##Wrap the svm regressor in a multi output regressor\n",
    "grid_search = GridSearchCV(estimator=MultiOutputRegressor(svm_regressor), param_grid=param_grid, cv=5, scoring='neg_mean_squared_error', n_jobs=-1)\n",
    "\n",
    "# 3. Train the Model\n",
    "grid_search.fit(X_train, y_train)\n",
    "\n",
    "# 4. Evaluate the Model\n",
    "best_svm_model = grid_search.best_estimator_\n",
    "y_pred = best_svm_model.predict(X_test)\n",
    "y_charges_pred = y_pred[:, 0]  #Charges is the first output variable\n",
    "y_coverage_pred = y_pred[:, 1]  #Coverage is the second output variable\n",
    "\n",
    "\n",
    "mse_charges = mean_squared_error(y_charges_test, y_charges_pred)\n",
    "mse_coverage = mean_squared_error(y_coverage_test, y_coverage_pred)\n",
    "print(\"Mean Squared Error (Charges):\", mse_charges)\n",
    "print(\"Mean Squared Error (Coverage Level):\", mse_coverage)\n",
    "\n"
   ]
  },
  {
   "cell_type": "code",
   "execution_count": null,
   "id": "9cf3a2d1-dc82-44b6-b2cb-7c35b3acf3e8",
   "metadata": {},
   "outputs": [],
   "source": []
  },
  {
   "cell_type": "markdown",
   "id": "bfb3e7b8-3f4b-49b8-8c8c-63ba1cb56da4",
   "metadata": {
    "jp-MarkdownHeadingCollapsed": true
   },
   "source": [
    "### Multi-output Neural Network \n",
    "\n",
    "Here we use the NN Model from tensorflow to create a NN regression model that will predict the charges and the coverage type"
   ]
  },
  {
   "cell_type": "code",
   "execution_count": 8,
   "id": "c8bc0ec1-07a0-4161-86f7-bef8378786cf",
   "metadata": {
    "scrolled": true
   },
   "outputs": [
    {
     "name": "stdout",
     "output_type": "stream",
     "text": [
      "Epoch 1/4\n"
     ]
    },
    {
     "name": "stderr",
     "output_type": "stream",
     "text": [
      "C:\\Users\\Admin\\anaconda3\\Lib\\site-packages\\keras\\src\\layers\\core\\dense.py:86: UserWarning: Do not pass an `input_shape`/`input_dim` argument to a layer. When using Sequential models, prefer using an `Input(shape)` object as the first layer in the model instead.\n",
      "  super().__init__(activity_regularizer=activity_regularizer, **kwargs)\n"
     ]
    },
    {
     "name": "stdout",
     "output_type": "stream",
     "text": [
      "\u001b[1m400/400\u001b[0m \u001b[32m━━━━━━━━━━━━━━━━━━━━\u001b[0m\u001b[37m\u001b[0m \u001b[1m2s\u001b[0m 1ms/step - loss: 146708320.0000 - val_loss: 127553928.0000\n",
      "Epoch 2/4\n",
      "\u001b[1m400/400\u001b[0m \u001b[32m━━━━━━━━━━━━━━━━━━━━\u001b[0m\u001b[37m\u001b[0m \u001b[1m0s\u001b[0m 1ms/step - loss: 100149832.0000 - val_loss: 28786558.0000\n",
      "Epoch 3/4\n",
      "\u001b[1m400/400\u001b[0m \u001b[32m━━━━━━━━━━━━━━━━━━━━\u001b[0m\u001b[37m\u001b[0m \u001b[1m0s\u001b[0m 1ms/step - loss: 18386186.0000 - val_loss: 9721640.0000\n",
      "Epoch 4/4\n",
      "\u001b[1m400/400\u001b[0m \u001b[32m━━━━━━━━━━━━━━━━━━━━\u001b[0m\u001b[37m\u001b[0m \u001b[1m0s\u001b[0m 1ms/step - loss: 9230325.0000 - val_loss: 9107800.0000\n",
      "\u001b[1m32/32\u001b[0m \u001b[32m━━━━━━━━━━━━━━━━━━━━\u001b[0m\u001b[37m\u001b[0m \u001b[1m0s\u001b[0m 2ms/step\n",
      "Mean Squared Error (Charges): 17477559.62693434\n",
      "Mean Squared Error (Coverage Level): 0.6752304297422693\n"
     ]
    }
   ],
   "source": [
    "from tensorflow.keras.models import Sequential\n",
    "from tensorflow.keras.layers import Dense\n",
    "from sklearn.metrics import mean_squared_error\n",
    "\n",
    "# Define the neural network model\n",
    "nn_model = Sequential([\n",
    "    Dense(64, activation='relu', input_shape=(9,)),\n",
    "    Dense(32, activation='relu'),\n",
    "    Dense(2)  # Two outputs for charges and coverage\n",
    "])\n",
    "\n",
    "# Compile the model\n",
    "nn_model.compile(optimizer='adam', loss='mean_squared_error')\n",
    "\n",
    "# Train the model\n",
    "trained_data = nn_model.fit(X_train, y_train, epochs=4, batch_size=8, validation_split=0.2)\n",
    "\n",
    "# Make predictions on the test data\n",
    "y_pred = nn_model.predict(X_test)\n",
    "# Split the predictions into charges and coverage level\n",
    "y_charges_pred = y_pred[:, 0]  # Charges is the first output variable\n",
    "y_coverage_pred = y_pred[:, 1]  # Coverage is the second output variable\n",
    "\n",
    "# Calculate Mean Squared Error for each output separately\n",
    "mse_charges = mean_squared_error(y_charges_test, y_charges_pred)\n",
    "mse_coverage = mean_squared_error(y_coverage_test, y_coverage_pred)\n",
    "\n",
    "print(\"Mean Squared Error (Charges):\", mse_charges)\n",
    "print(\"Mean Squared Error (Coverage Level):\", mse_coverage)\n",
    "#y_pred_df = pd.DataFrame(y_pred, columns=['Predicted Charges', 'Predicted Coverage Level'])\n",
    "#y_test_df = pd.DataFrame(y_test, columns=['Actual Charges', 'Actual Coverage Level'])\n",
    "#combined_df = pd.concat([y_test_df, y_pred_df], axis=1)\n",
    "                          \n",
    "#combined_df.tail(9)\n",
    "#y_charges_test.tail()"
   ]
  },
  {
   "cell_type": "markdown",
   "id": "eee8c6ca-5026-4587-9c20-6cc5726826b5",
   "metadata": {
    "jp-MarkdownHeadingCollapsed": true
   },
   "source": [
    "### Predict data from test user\n",
    "\n",
    "Using sample data the model then predicts an output"
   ]
  },
  {
   "cell_type": "code",
   "execution_count": 17,
   "id": "45b3f534-27fb-4dcc-80c5-29804b4d7c2a",
   "metadata": {
    "scrolled": true
   },
   "outputs": [
    {
     "data": {
      "text/html": [
       "<div>\n",
       "<style scoped>\n",
       "    .dataframe tbody tr th:only-of-type {\n",
       "        vertical-align: middle;\n",
       "    }\n",
       "\n",
       "    .dataframe tbody tr th {\n",
       "        vertical-align: top;\n",
       "    }\n",
       "\n",
       "    .dataframe thead th {\n",
       "        text-align: right;\n",
       "    }\n",
       "</style>\n",
       "<table border=\"1\" class=\"dataframe\">\n",
       "  <thead>\n",
       "    <tr style=\"text-align: right;\">\n",
       "      <th></th>\n",
       "      <th>age</th>\n",
       "      <th>gender</th>\n",
       "      <th>bmi</th>\n",
       "      <th>children</th>\n",
       "      <th>smoker</th>\n",
       "      <th>medical_history</th>\n",
       "      <th>family_medical_history</th>\n",
       "      <th>exercise_frequency</th>\n",
       "      <th>occupation</th>\n",
       "    </tr>\n",
       "  </thead>\n",
       "  <tbody>\n",
       "    <tr>\n",
       "      <th>0</th>\n",
       "      <td>35</td>\n",
       "      <td>1</td>\n",
       "      <td>25.5</td>\n",
       "      <td>2</td>\n",
       "      <td>0</td>\n",
       "      <td>0.0</td>\n",
       "      <td>0.0</td>\n",
       "      <td>2</td>\n",
       "      <td>3</td>\n",
       "    </tr>\n",
       "  </tbody>\n",
       "</table>\n",
       "</div>"
      ],
      "text/plain": [
       "   age  gender   bmi  children  smoker  medical_history  \\\n",
       "0   35       1  25.5         2       0              0.0   \n",
       "\n",
       "   family_medical_history  exercise_frequency  occupation  \n",
       "0                     0.0                   2           3  "
      ]
     },
     "execution_count": 17,
     "metadata": {},
     "output_type": "execute_result"
    }
   ],
   "source": [
    "# Sample input data\n",
    "input_data = {\n",
    "    'age': [35],\n",
    "    'gender': ['female'],\n",
    "    'bmi': [25.5],\n",
    "    'children': [2],\n",
    "    'smoker': ['no'],\n",
    "    'medical_history': [np.NAN],\n",
    "    'family_medical_history': [np.NAN],\n",
    "    'exercise_frequency': ['Occasionally'],\n",
    "    'occupation': ['White collar']\n",
    "}\n",
    "\n",
    "# Create a DataFrame\n",
    "input_df = pd.DataFrame(input_data)\n",
    "\n",
    "input_df.tail(9)\n",
    "\n",
    "# Convert categorical variables to numerical using label encoding\n",
    "input_df_encoded = encode_values(input_df)\n",
    "\n",
    "input_df_encoded.tail(9)"
   ]
  },
  {
   "cell_type": "markdown",
   "id": "9aeead01-3c7a-47e1-a571-e3919cb3e333",
   "metadata": {},
   "source": [
    "#### Random Forest Prediction"
   ]
  },
  {
   "cell_type": "code",
   "execution_count": 30,
   "id": "c21e3ef7-d3f7-44f5-ac62-44f70e5e771b",
   "metadata": {},
   "outputs": [
    {
     "name": "stdout",
     "output_type": "stream",
     "text": [
      "Predicted Charges: 11828.518423977737\n",
      "Predicted Coverage Level: 0.9322266146103616\n"
     ]
    },
    {
     "name": "stderr",
     "output_type": "stream",
     "text": [
      "C:\\Users\\Admin\\anaconda3\\Lib\\site-packages\\sklearn\\base.py:432: UserWarning: X has feature names, but RandomForestRegressor was fitted without feature names\n",
      "  warnings.warn(\n",
      "C:\\Users\\Admin\\anaconda3\\Lib\\site-packages\\sklearn\\base.py:432: UserWarning: X has feature names, but RandomForestRegressor was fitted without feature names\n",
      "  warnings.warn(\n"
     ]
    }
   ],
   "source": [
    "# 3. Make prediction for the input data\n",
    "prediction = best_rf_model.predict(input_df_encoded)\n",
    "\n",
    "# 4. Output the prediction\n",
    "print(\"Predicted Charges:\", prediction[0][0])  # Assuming charges is the first output variable\n",
    "print(\"Predicted Coverage Level:\", prediction[0][1])  # Assuming coverage is the second output variable"
   ]
  },
  {
   "cell_type": "markdown",
   "id": "546ad2b5-cc0d-4270-8c92-2dab80302eb8",
   "metadata": {},
   "source": [
    "#### SVM Prediction"
   ]
  },
  {
   "cell_type": "code",
   "execution_count": 27,
   "id": "cf0c21a6-d232-4ed9-b65d-f945677e144e",
   "metadata": {},
   "outputs": [
    {
     "name": "stdout",
     "output_type": "stream",
     "text": [
      "Predicted Charges: [51025.26109128]\n",
      "Predicted Coverage Level: [0.49910054]\n"
     ]
    },
    {
     "name": "stderr",
     "output_type": "stream",
     "text": [
      "C:\\Users\\Admin\\anaconda3\\Lib\\site-packages\\sklearn\\base.py:432: UserWarning: X has feature names, but SVR was fitted without feature names\n",
      "  warnings.warn(\n",
      "C:\\Users\\Admin\\anaconda3\\Lib\\site-packages\\sklearn\\base.py:432: UserWarning: X has feature names, but SVR was fitted without feature names\n",
      "  warnings.warn(\n"
     ]
    }
   ],
   "source": [
    "predictions = best_svm_model.predict(input_df)\n",
    "# Display the predictions\n",
    "print(\"Predicted Charges:\", predictions[:, 0])\n",
    "print(\"Predicted Coverage Level:\", predictions[:, 1])"
   ]
  },
  {
   "cell_type": "markdown",
   "id": "0fa2d583-6f6f-4a8f-9e04-1007db73c98b",
   "metadata": {},
   "source": [
    "#### Neural Network Prediction"
   ]
  },
  {
   "cell_type": "code",
   "execution_count": 23,
   "id": "d352ce1e-f085-4d85-89d3-92a368d14e9d",
   "metadata": {},
   "outputs": [
    {
     "name": "stdout",
     "output_type": "stream",
     "text": [
      "\u001b[1m1/1\u001b[0m \u001b[32m━━━━━━━━━━━━━━━━━━━━\u001b[0m\u001b[37m\u001b[0m \u001b[1m0s\u001b[0m 28ms/step\n",
      "Predicted Charges: 207696.84\n",
      "Predicted Coverage Level: 14.22957\n"
     ]
    }
   ],
   "source": [
    "# Make predictions using the trained model\n",
    "predictions = nn_model.predict(input_df_encoded)\n",
    "\n",
    "# Display the predictions\n",
    "print(\"Predicted Charges:\", predictions[0][0])\n",
    "print(\"Predicted Coverage Level:\", predictions[0][1])"
   ]
  },
  {
   "attachments": {},
   "cell_type": "markdown",
   "id": "431a4373-315d-4607-86f2-416823426c8f",
   "metadata": {},
   "source": [
    "\n",
    "As you can see the random forest model has the most accurate predictions of all the models, this is because the SVM model predicted a coverage of 50,000, which is much higher than the largest charge in the dataset at 32561.56037 , and the Neural Network model predicted a coverage level of 14, which is not possible as the only option are Basic(0), Standard(1) and Premium(2).\r\n",
    "\n"
   ]
  },
  {
   "cell_type": "markdown",
   "id": "1a3def97-4ede-477a-a335-fe7d339a124d",
   "metadata": {},
   "source": [
    "### Cross Validation"
   ]
  },
  {
   "cell_type": "code",
   "execution_count": 33,
   "id": "79891530-fdf1-450f-8fe4-249497c70ef2",
   "metadata": {},
   "outputs": [
    {
     "data": {
      "image/png": "[encoded data removed]",
      "text/plain": [
       "<Figure size 1000x600 with 1 Axes>"
      ]
     },
     "metadata": {},
     "output_type": "display_data"
    }
   ],
   "source": [
    "from sklearn.model_selection import cross_validate\n",
    "\n",
    "# Define cross-validation strategy (e.g., 5-fold cross-validation)\n",
    "cv_results = cross_validate(grid_search, X_train, y_train, cv=5, scoring='neg_mean_squared_error', return_train_score=True)\n",
    "\n",
    "# Extract train and test scores from cross-validation results\n",
    "train_scores = -cv_results['train_score']  # Use negative scores for MSE\n",
    "test_scores = -cv_results['test_score']\n",
    "\n",
    "# Plot boxplot of training and testing MSE\n",
    "plt.figure(figsize=(10, 6))\n",
    "plt.boxplot([train_scores, test_scores], labels=['Training MSE', 'Testing MSE'])\n",
    "plt.title('Training and Testing Mean Squared Error (MSE) Across Folds')\n",
    "plt.ylabel('Mean Squared Error (MSE)')\n",
    "plt.show()"
   ]
  },
  {
   "cell_type": "markdown",
   "id": "9adeb90f-324a-4921-b225-cfa6c7d526b7",
   "metadata": {},
   "source": [
    "### Part 2 - Optimisation"
   ]
  },
  {
   "cell_type": "markdown",
   "id": "d508278f-58d4-4c74-b036-feceff78ae21",
   "metadata": {},
   "source": [
    "### "
   ]
  },
  {
   "cell_type": "code",
   "execution_count": null,
   "id": "daf5ca92-e472-441f-864d-182f2eaf565a",
   "metadata": {},
   "outputs": [],
   "source": [
    "# Step 1: Read the file and extract relevant information\n",
    "def read_file(file_path):\n",
    "    # Implement file parsing logic to extract surgeon details, surgery details, and constraints\n",
    "    pass\n",
    "\n",
    "# Step 2: Implement the fitness function\n",
    "def calculate_fitness(timetable):\n",
    "    # Initialize constraint violation counters\n",
    "    concurrence_violations = 0\n",
    "    precedence_violations = 0\n",
    "    \n",
    "    # Iterate through each time slot in the timetable\n",
    "    for time_slot in timetable:\n",
    "        # Check concurrence constraints\n",
    "        # Update concurrence_violations if needed\n",
    "        \n",
    "        # Check precedence constraints\n",
    "        # Update precedence_violations if needed\n",
    "    \n",
    "    # Calculate fitness score\n",
    "    fitness_score = concurrence_violations * precedence_violations\n",
    "    return fitness_score\n",
    "\n",
    "# Step 3: Test with a random timetable\n",
    "def generate_random_timetable():\n",
    "    # Implement logic to generate a random timetable\n",
    "    pass\n",
    "\n",
    "# Read the file and extract relevant information\n",
    "surgeons, surgeries, constraints = read_file(\"file_path\")\n",
    "\n",
    "# Generate a random timetable\n",
    "random_timetable = generate_random_timetable()\n",
    "\n",
    "# Evaluate the fitness of the random timetable\n",
    "fitness = calculate_fitness(random_timetable)\n",
    "print(\"Fitness of Random Timetable:\", fitness)"
   ]
  }
 ],
 "metadata": {
  "kernelspec": {
   "display_name": "Python 3 (ipykernel)",
   "language": "python",
   "name": "python3"
  },
  "language_info": {
   "codemirror_mode": {
    "name": "ipython",
    "version": 3
   },
   "file_extension": ".py",
   "mimetype": "text/x-python",
   "name": "python",
   "nbconvert_exporter": "python",
   "pygments_lexer": "ipython3",
   "version": "3.11.7"
  }
 },
 "nbformat": 4,
 "nbformat_minor": 5
}
