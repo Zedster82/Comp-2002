{
 "cells": [
  {
   "cell_type": "markdown",
   "metadata": {},
   "source": [
    "\n",
    "# Comparing random forests and the multi-output meta estimator\n",
    "\n",
    "An example to compare multi-output regression with random forest and\n",
    "the `multioutput.MultiOutputRegressor <multiclass>` meta-estimator.\n",
    "\n",
    "This example illustrates the use of the\n",
    "`multioutput.MultiOutputRegressor <multiclass>` meta-estimator\n",
    "to perform multi-output regression. A random forest regressor is used,\n",
    "which supports multi-output regression natively, so the results can be\n",
    "compared.\n",
    "\n",
    "The random forest regressor will only ever predict values within the\n",
    "range of observations or closer to zero for each of the targets. As a\n",
    "result the predictions are biased towards the centre of the circle.\n",
    "\n",
    "Using a single underlying feature the model learns both the\n",
    "x and y coordinate as output.\n"
   ]
  },
  {
   "cell_type": "code",
   "execution_count": 7,
   "metadata": {
    "collapsed": false,
    "jupyter": {
     "outputs_hidden": false
    }
   },
   "outputs": [
    {
     "name": "stdout",
     "output_type": "stream",
     "text": [
      "Shape of X_train: (8000, 9)\n",
      "Shape of y_train: (8000, 2)\n"
     ]
    }
   ],
   "source": [
    "# Author: Tim Head <betatim@gmail.com>\n",
    "#\n",
    "# License: BSD 3 clause\n",
    "\n",
    "import matplotlib.pyplot as plt\n",
    "import numpy as np\n",
    "import pandas as pd\n",
    "from sklearn.ensemble import RandomForestRegressor\n",
    "from sklearn.model_selection import train_test_split\n",
    "from sklearn.multioutput import MultiOutputRegressor\n",
    "\n",
    "\n",
    "\n",
    "\n",
    "raw_dataset = pd.read_csv(\"insurance_dataset.csv\", sep=',',decimal='.')\n",
    "dataset = raw_dataset.copy()\n",
    "dataset = dataset.sample(frac=0.01, random_state=42)\n",
    "from sklearn.preprocessing import LabelEncoder\n",
    "# Define ordinal mappings for ordinal variables\n",
    "ordinal_mappings = {\n",
    "    \"occupation\": {\"Unemployed\": 0, \"Student\": 1, \"Blue collar\": 2, \"White collar\": 3},\n",
    "    \"coverage_level\": {\"Basic\": 0, \"Standard\": 1, \"Premium\": 2}\n",
    "}\n",
    "# Apply ordinal encoding to ordinal variables\n",
    "dataset.replace(ordinal_mappings, inplace=True)\n",
    "# For non-ordinal variables, you can use regular label encoding\n",
    "label_encoder = LabelEncoder()\n",
    "non_ordinal_columns = ['gender', 'smoker', 'medical_history', 'family_medical_history','exercise_frequency']\n",
    "for column in non_ordinal_columns:\n",
    "    dataset[column] = label_encoder.fit_transform(dataset[column])\n",
    "\n",
    "\n",
    "X = dataset[['age', 'gender', 'bmi', 'children', 'smoker', 'medical_history', \n",
    "             'family_medical_history', 'exercise_frequency', 'occupation']]\n",
    "y_charges = dataset['charges'].values.reshape(-1, 1)  # Reshape to a 2D array\n",
    "y_coverage = dataset['coverage_level'].values.reshape(-1, 1)  # Reshape to a 2D array\n",
    "\n",
    "\n",
    "\n",
    "\n",
    "X_train, X_test, y_charges_train, y_charges_test = train_test_split(\n",
    "    X, y_charges, test_size=0.2, random_state=42)\n",
    "X_train, X_test, y_coverage_train, y_coverage_test = train_test_split(\n",
    "    X, y_coverage, test_size=0.2, random_state=42)\n",
    "\n",
    "max_depth = 30\n",
    "regr_multirf = MultiOutputRegressor(\n",
    "    RandomForestRegressor(n_estimators=100, max_depth=max_depth, random_state=0)\n",
    ")\n",
    "regr_multirf.fit(X_train, np.hstack((y_charges_train, y_coverage_train)))\n",
    "print(\"Shape of X_train:\", X_train.shape)\n",
    "y_train = np.concatenate((y_charges_train, y_coverage_train), axis=1)\n",
    "y_test = np.concatenate((y_charges_test, y_coverage_test), axis=1)\n",
    "print(\"Shape of y_train:\", y_train.shape)\n",
    "\n"
   ]
  },
  {
   "cell_type": "code",
   "execution_count": 8,
   "metadata": {},
   "outputs": [
    {
     "data": {
      "image/png": "[encoded data removed]",
      "text/plain": [
       "<Figure size 640x480 with 1 Axes>"
      ]
     },
     "metadata": {},
     "output_type": "display_data"
    }
   ],
   "source": [
    "regr_rf = RandomForestRegressor(n_estimators=100, max_depth=max_depth, random_state=2)\n",
    "regr_rf.fit(X_train, y_train)\n",
    "\n",
    "# Predict on new data\n",
    "y_multirf = regr_multirf.predict(X_test)\n",
    "y_rf = regr_rf.predict(X_test)\n",
    "\n",
    "# Plot the results\n",
    "plt.figure()\n",
    "s = 50\n",
    "a = 0.4\n",
    "plt.scatter(\n",
    "    y_test[:, 0],\n",
    "    y_test[:, 1],\n",
    "    edgecolor=\"k\",\n",
    "    c=\"navy\",\n",
    "    s=s,\n",
    "    marker=\"s\",\n",
    "    alpha=a,\n",
    "    label=\"Data\",\n",
    ")\n",
    "plt.scatter(\n",
    "    y_multirf[:, 0],\n",
    "    y_multirf[:, 1],\n",
    "    edgecolor=\"k\",\n",
    "    c=\"cornflowerblue\",\n",
    "    s=s,\n",
    "    alpha=a,\n",
    "    label=\"Multi RF score=%.2f\" % regr_multirf.score(X_test, y_test),\n",
    ")\n",
    "plt.scatter(\n",
    "    y_rf[:, 0],\n",
    "    y_rf[:, 1],\n",
    "    edgecolor=\"k\",\n",
    "    c=\"c\",\n",
    "    s=s,\n",
    "    marker=\"^\",\n",
    "    alpha=a,\n",
    "    label=\"RF score=%.2f\" % regr_rf.score(X_test, y_test),\n",
    ")\n",
    "plt.xlim([-6, 6])\n",
    "plt.ylim([-6, 6])\n",
    "plt.xlabel(\"target 1\")\n",
    "plt.ylabel(\"target 2\")\n",
    "plt.title(\"Comparing random forests and the multi-output meta estimator\")\n",
    "plt.legend()\n",
    "plt.show()"
   ]
  },
  {
   "cell_type": "code",
   "execution_count": null,
   "metadata": {},
   "outputs": [],
   "source": []
  }
 ],
 "metadata": {
  "kernelspec": {
   "display_name": "Python 3 (ipykernel)",
   "language": "python",
   "name": "python3"
  },
  "language_info": {
   "codemirror_mode": {
    "name": "ipython",
    "version": 3
   },
   "file_extension": ".py",
   "mimetype": "text/x-python",
   "name": "python",
   "nbconvert_exporter": "python",
   "pygments_lexer": "ipython3",
   "version": "3.11.7"
  }
 },
 "nbformat": 4,
 "nbformat_minor": 4
}
